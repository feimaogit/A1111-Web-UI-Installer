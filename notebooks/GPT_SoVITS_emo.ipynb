{
  "nbformat": 4,
  "nbformat_minor": 0,
  "metadata": {
    "colab": {
      "provenance": [],
      "gpuType": "T4",
      "include_colab_link": true
    },
    "kernelspec": {
      "name": "python3",
      "display_name": "Python 3"
    },
    "language_info": {
      "name": "python"
    },
    "accelerator": "GPU"
  },
  "cells": [
    {
      "cell_type": "markdown",
      "metadata": {
        "id": "view-in-github",
        "colab_type": "text"
      },
      "source": [
        "<a href=\"https://colab.research.google.com/github/feimaogit/A1111-Web-UI-Installer/blob/main/notebooks/GPT_SoVITS_emo.ipynb\" target=\"_parent\"><img src=\"https://colab.research.google.com/assets/colab-badge.svg\" alt=\"Open In Colab\"/></a>"
      ]
    },
    {
      "cell_type": "code",
      "source": [
        "#@title 一键启动！\n",
        "!git clone https://github.com/KevinWang676/GPT-SoVITS-emo.git\n",
        "!git clone https://huggingface.co/spaces/kevinwang676/GPT-SoVITS-models.git\n",
        "%cd GPT-SoVITS-emo\n",
        "!pip install --disable-pip-version-check -r requirements.txt\n",
        "!sudo apt install ffmpeg\n",
        "!sudo apt install libsox-dev\n",
        "!mv /content/GPT-SoVITS-models/GPT-SoVITS/tools/damo_asr/models /content/GPT-SoVITS-emo/tools/damo_asr\n",
        "!mv /content/GPT-SoVITS-models/GPT-SoVITS/GPT_SoVITS/pretrained_models /content/GPT-SoVITS-emo/GPT_SoVITS\n",
        "import nltk\n",
        "nltk.download(\"all\")\n",
        "import urllib.request\n",
        "urllib.request.urlretrieve(\"https://huggingface.co/spaces/kevinwang676/OpenVoice/resolve/main/checkpoints_1226.zip\", \"checkpoints_1226.zip\")\n",
        "urllib.request.urlretrieve(\"https://huggingface.co/kevinwang676/OpenVoice-v2/resolve/main/checkpoints_v2_0417.zip\", \"checkpoints_v2_0417.zip\")\n",
        "import zipfile\n",
        "with zipfile.ZipFile(\"checkpoints_1226.zip\", 'r') as zip_ref:\n",
        "    zip_ref.extractall(\"\")\n",
        "with zipfile.ZipFile(\"checkpoints_v2_0417.zip\", 'r') as zip_ref:\n",
        "    zip_ref.extractall(\"\")\n",
        "!python webui.py"
      ],
      "metadata": {
        "id": "l28zMG05rKoJ"
      },
      "execution_count": null,
      "outputs": []
    },
    {
      "cell_type": "code",
      "source": [],
      "metadata": {
        "id": "1NtVPEQMhX3v"
      },
      "execution_count": null,
      "outputs": []
    }
  ]
}